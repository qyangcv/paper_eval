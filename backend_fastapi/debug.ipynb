{
 "cells": [
  {
   "cell_type": "code",
   "execution_count": 4,
   "id": "c358e741",
   "metadata": {},
   "outputs": [
    {
     "name": "stdout",
     "output_type": "stream",
     "text": [
      "76ea2c29-c8c7-4a10-86a1-86f449123548\n"
     ]
    }
   ],
   "source": [
    "import requests\n",
    "from api.eval_module import (\n",
    "    hard_eval,\n",
    "    soft_eval,\n",
    "    image_eval,\n",
    "    ref_eval\n",
    ")\n",
    "\n",
    "# 上传文档\n",
    "with open('./data/raw/龚礼盛-本科毕业论文.docx', 'rb') as f:\n",
    "    response = requests.post(\n",
    "        'http://localhost:8000/api/upload',\n",
    "        files={'file': f}\n",
    "    )\n",
    "    \n",
    "document_id = response.json()['document_id']\n",
    "\n",
    "response = requests.post(f'http://localhost:8000/api/document/process/{document_id}')\n",
    "\n",
    "# print(response.json())\n",
    "print(document_id)"
   ]
  },
  {
   "cell_type": "code",
   "execution_count": null,
   "id": "8440c1f7",
   "metadata": {},
   "outputs": [],
   "source": [
    "import importlib\n",
    "import api.document\n",
    "importlib.reload(api.document)  # 重新加载模块\n",
    "from api.document import get_document_markdown\n",
    "\n",
    "markdown_content = await get_document_markdown(document_id)"
   ]
  },
  {
   "cell_type": "code",
   "execution_count": null,
   "id": "00ae4e14",
   "metadata": {},
   "outputs": [],
   "source": [
    "from utils.redis_client import get_redis_manager\n",
    "redis_mgr = await get_redis_manager()\n",
    "\n",
    "key = redis_mgr._get_document_key(document_id)\n",
    "memory_usage = await redis_mgr._client.memory_usage(key)\n",
    "memory_mb = memory_usage / 1024 / 1024\n",
    "print(f\"内存占用: {memory_mb:.2f} MB\")"
   ]
  },
  {
   "cell_type": "code",
   "execution_count": null,
   "id": "651de021",
   "metadata": {},
   "outputs": [],
   "source": [
    "response = requests.get(f'http://localhost:8000/api/analysis/get_md/{document_id}')\n",
    "print(response.json())"
   ]
  }
 ],
 "metadata": {
  "kernelspec": {
   "display_name": "paper_eval",
   "language": "python",
   "name": "python3"
  },
  "language_info": {
   "codemirror_mode": {
    "name": "ipython",
    "version": 3
   },
   "file_extension": ".py",
   "mimetype": "text/x-python",
   "name": "python",
   "nbconvert_exporter": "python",
   "pygments_lexer": "ipython3",
   "version": "3.10.16"
  }
 },
 "nbformat": 4,
 "nbformat_minor": 5
}
