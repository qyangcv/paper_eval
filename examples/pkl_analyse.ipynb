{
 "cells": [
  {
   "cell_type": "code",
   "execution_count": null,
   "metadata": {},
   "outputs": [],
   "source": [
    "import pickle\n",
    "\n",
    "in_path = '/Users/yang/Documents/bupt/code/paper_eval/qy_data_pipeline/md2pkl/pkl/23.黄加宇-市优.pkl'\n",
    "\n",
    "with open(in_path, 'rb') as f:\n",
    "    data = pickle.load(f) # 'data' is a dict, with 4 keys: 'cn_abs', 'eng_abs', 'ref' and 'chapters'.\n",
    "\n",
    "c = list(data.keys())\n",
    "print(data[c[3]])\n",
    "cn_abs = data['cn_abs'] # cn_abs is str\n",
    "eng_abs = data['eng_abs'] # eng_abs is str\n",
    "ref = data['ref'] # ref is str\n",
    "\n",
    "# chapters is list, each element is a dict\n",
    "# each dict has 3 keys: 'text_content', 'img_paths' and 'tables', each value of these keys is str\n",
    "# use data['chapters'][0]['text_content'] to get the text content of the 1st chapter\n",
    "chapters = data['chapters'] \n",
    "\n",
    "pass"
   ]
  }
 ],
 "metadata": {
  "kernelspec": {
   "display_name": "paper_eval",
   "language": "python",
   "name": "python3"
  },
  "language_info": {
   "codemirror_mode": {
    "name": "ipython",
    "version": 3
   },
   "file_extension": ".py",
   "mimetype": "text/x-python",
   "name": "python",
   "nbconvert_exporter": "python",
   "pygments_lexer": "ipython3",
   "version": "3.10.16"
  }
 },
 "nbformat": 4,
 "nbformat_minor": 2
}
